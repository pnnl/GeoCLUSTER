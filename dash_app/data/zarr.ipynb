{
 "cells": [
  {
   "cell_type": "code",
   "execution_count": null,
   "metadata": {},
   "outputs": [
    {
     "data": {
      "text/plain": [
       "[array([  5. ,   8.8,  12.6,  16.4,  20.2,  24. ,  27.8,  31.6,  35.4,\n",
       "         39.2,  43. ,  46.8,  50.6,  54.4,  58.2,  62. ,  65.8,  69.6,\n",
       "         73.4,  77.2,  81. ,  84.8,  88.6,  92.4,  96.2, 100. ],\n",
       "       dtype=float32),\n",
       " array([ 1000.,  2000.,  3000.,  4000.,  5000.,  6000.,  7000.,  8000.,\n",
       "         9000., 10000., 11000., 12000., 13000., 14000., 15000., 16000.,\n",
       "        17000., 18000., 19000., 20000.], dtype=float32),\n",
       " array([1000., 1500., 2000., 2500., 3000., 3500., 4000., 4500., 5000.],\n",
       "       dtype=float32),\n",
       " array([0.03, 0.04, 0.05, 0.06, 0.07], dtype=float32),\n",
       " array([0.2159, 0.3302, 0.4445], dtype=float32),\n",
       " array([303.15, 318.15, 333.15], dtype=float32),\n",
       " array([1.5, 3. , 4.5], dtype=float32),\n",
       " array([ 0.  ,  0.25,  0.5 ,  0.75,  1.  ,  1.25,  1.5 ,  1.75,  2.  ,\n",
       "         2.25,  2.5 ,  2.75,  3.  ,  3.25,  3.5 ,  3.75,  4.  ,  4.25,\n",
       "         4.5 ,  4.75,  5.  ,  5.25,  5.5 ,  5.75,  6.  ,  6.25,  6.5 ,\n",
       "         6.75,  7.  ,  7.25,  7.5 ,  7.75,  8.  ,  8.25,  8.5 ,  8.75,\n",
       "         9.  ,  9.25,  9.5 ,  9.75, 10.  , 10.25, 10.5 , 10.75, 11.  ,\n",
       "        11.25, 11.5 , 11.75, 12.  , 12.25, 12.5 , 12.75, 13.  , 13.25,\n",
       "        13.5 , 13.75, 14.  , 14.25, 14.5 , 14.75, 15.  , 15.25, 15.5 ,\n",
       "        15.75, 16.  , 16.25, 16.5 , 16.75, 17.  , 17.25, 17.5 , 17.75,\n",
       "        18.  , 18.25, 18.5 , 18.75, 19.  , 19.25, 19.5 , 19.75, 20.  ,\n",
       "        20.25, 20.5 , 20.75, 21.  , 21.25, 21.5 , 21.75, 22.  , 22.25,\n",
       "        22.5 , 22.75, 23.  , 23.25, 23.5 , 23.75, 24.  , 24.25, 24.5 ,\n",
       "        24.75, 25.  , 25.25, 25.5 , 25.75, 26.  , 26.25, 26.5 , 26.75,\n",
       "        27.  , 27.25, 27.5 , 27.75, 28.  , 28.25, 28.5 , 28.75, 29.  ,\n",
       "        29.25, 29.5 , 29.75, 30.  , 30.25, 30.5 , 30.75, 31.  , 31.25,\n",
       "        31.5 , 31.75, 32.  , 32.25, 32.5 , 32.75, 33.  , 33.25, 33.5 ,\n",
       "        33.75, 34.  , 34.25, 34.5 , 34.75, 35.  , 35.25, 35.5 , 35.75,\n",
       "        36.  , 36.25, 36.5 , 36.75, 37.  , 37.25, 37.5 , 37.75, 38.  ,\n",
       "        38.25, 38.5 , 38.75, 39.  , 39.25, 39.5 , 39.75, 40.  ],\n",
       "       dtype=float32)]"
      ]
     },
     "execution_count": 8,
     "metadata": {},
     "output_type": "execute_result"
    }
   ],
   "source": [
    "import h5py\n",
    "import numpy as np\n",
    "\n",
    "filename = \"./clgs_results_final_float32.h5\"\n",
    "def get_parameters():\n",
    "    with h5py.File(filename, 'r') as file:\n",
    "        case = \"{tube_shape}\"\n",
    "        fluid = \"sCO2\"\n",
    "        input_loc = \"/\" + case + \"/\" + fluid + \"/input/\"\n",
    "        mdot = file[input_loc + \"mdot\"][:]  # i0\n",
    "        L2 = file[input_loc + \"L2\"][:]  # i1\n",
    "        L1 = file[input_loc + \"L1\"][:]  # i2\n",
    "        grad = file[input_loc + \"grad\"][:]  # i3\n",
    "        D = file[input_loc + \"D\"][:]  # i4\n",
    "        Tinj = file[input_loc + \"T_i\"][:]  # i5\n",
    "        k = file[input_loc + \"k_rock\"][:]  # i6\n",
    "        time = file[input_loc + \"time\"][:]  # i7\n",
    "        return [mdot, L2, L1, grad, D, Tinj, k, time]\n",
    "\n",
    "parameter_values = get_parameters()\n",
    "parameter_values"
   ]
  },
  {
   "cell_type": "code",
   "execution_count": 1,
   "metadata": {},
   "outputs": [
    {
     "name": "stdout",
     "output_type": "stream",
     "text": [
      "(26, 20, 9, 5, 3, 3, 3, 161)\n",
      "(26, 20, 9, 5, 3, 3, 3, 161)\n",
      "(26, 20, 9, 5, 3, 3, 3, 161)\n",
      "(26, 20, 9, 5, 3, 3, 3, 161)\n",
      "(26, 20, 9, 5, 3, 3, 3, 161)\n",
      "(26, 20, 9, 5, 3, 3, 3, 161)\n",
      "(26, 20, 9, 5, 3, 3, 3, 161)\n",
      "(26, 20, 9, 5, 3, 3, 3, 161)\n"
     ]
    }
   ],
   "source": [
    "import zarr\n",
    "import h5py\n",
    "import numpy as np\n",
    "\n",
    "filename = \"./clgs_results_final_float32.h5\"\n",
    "shape = (26, 20, 9, 5, 3, 3, 3, 161)\n",
    "shapes = [\"utube\", \"coaxial\"]\n",
    "fluids = [\"H2O\", \"sCO2\"]\n",
    "types = [\"Tout\", \"Pout\"]\n",
    "for tube_shape in shapes:\n",
    "    for fluid in fluids:\n",
    "        for type in types:\n",
    "            with h5py.File(filename, 'r') as file:\n",
    "                We = file[f\"/{tube_shape}/{fluid}/output/We\"][:]\n",
    "                U = file[f\"/{tube_shape}/{fluid}/output/{type}\" + \"/\" + \"U\"][:]\n",
    "                sigma = file[f\"/{tube_shape}/{fluid}/output/{type}\" + \"/\" + \"sigma\"][:]\n",
    "                Vt = file[f\"/{tube_shape}/{fluid}/output/{type}\" + \"/\" + \"Vt\"][:]\n",
    "\n",
    "                M_k = np.dot(U, np.dot(np.diag(sigma), Vt))\n",
    "\n",
    "                valid_runs = np.argwhere(np.isfinite(We.flatten()))[:, 0]\n",
    "                M_k_full = np.full((shape[-1], np.prod(shape[:-1])), np.nan)\n",
    "                M_k_full[:, valid_runs] = M_k\n",
    "                ans = np.reshape(M_k_full.T, shape)\n",
    "                ans = ans.astype(np.float32)\n",
    "                print(ans.shape)\n",
    "                \n",
    "                chunk_size = (26, 1, 1, 1, 1, 1, 1, 161)\n",
    "                z = zarr.creation.array(ans, chunks=chunk_size, store=f'{tube_shape}_{fluid}_{type}.zarr', overwrite=True)"
   ]
  }
 ],
 "metadata": {
  "kernelspec": {
   "display_name": "venv",
   "language": "python",
   "name": "python3"
  },
  "language_info": {
   "codemirror_mode": {
    "name": "ipython",
    "version": 3
   },
   "file_extension": ".py",
   "mimetype": "text/x-python",
   "name": "python",
   "nbconvert_exporter": "python",
   "pygments_lexer": "ipython3",
   "version": "3.8.10"
  }
 },
 "nbformat": 4,
 "nbformat_minor": 2
}
